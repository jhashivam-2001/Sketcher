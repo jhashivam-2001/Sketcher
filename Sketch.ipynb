{
 "cells": [
  {
   "cell_type": "code",
   "execution_count": 1,
   "metadata": {},
   "outputs": [],
   "source": [
    "#Basic Python Image Converter - using tkinter and cv2\n",
    "\n",
    "from tkinter import *\n",
    "import tkinter.filedialog as tk\n",
    "import tkinter.messagebox as tk2\n",
    "#import pygame\n",
    "import numpy as np\n",
    "import cv2\n",
    "\n",
    "\n",
    "\n",
    "class Application(Frame):\n",
    "    \n",
    "    def __init__(self,master):\n",
    "        super(Application, self).__init__(master)\n",
    "        self.img=\"\"\n",
    "        self.grid(rowspan=5, columnspan=4)\n",
    "        self.addButton = Button(self, text = 'Add', command = self.add)\n",
    "        self.generateButton = Button(self, text = 'Generate', command = self.generate)\n",
    "        self.generateButton.grid(row=4, column = 0)\n",
    "        self.addButton.grid(row=4, column = 2)\n",
    "        self.pack()\n",
    "\n",
    "    def add(self):\n",
    "        file = tk.askopenfilenames(initialdir='C:/Users/babbu/Downloads')\n",
    "        imgTuple = root.splitlist(file)   #turn user's opened filenames into tuple\n",
    "        self.img = \"\".join(list(imgTuple))\n",
    "\n",
    "    def generate(self):\n",
    "        img_obj = cv2.imread(self.img)\n",
    "\n",
    "        #img_obj.shape   -- to check the shape of image \n",
    "\n",
    "        scale_percent = 0.70\n",
    "        width = int(img_obj.shape[1]*scale_percent)\n",
    "        height = int(img_obj.shape[0]*scale_percent)\n",
    "    \n",
    "        dim = (width,height)\n",
    "        resized = cv2.resize(img_obj,dim,interpolation = cv2.INTER_AREA)  # resizing the image \n",
    "    \n",
    "        kernel_sharpening = np.array([[-1,-1,-1], \n",
    "                              [-1, 9,-1],\n",
    "                              [-1,-1,-1]])\n",
    "        sharpened = cv2.filter2D(resized,-1,kernel_sharpening)   # shape the image\n",
    "\n",
    "\n",
    "        gray = cv2.cvtColor(sharpened , cv2.COLOR_BGR2GRAY)      # convert in black and white \n",
    "        object_detection = cv2.cvtColor(sharpened, cv2.COLOR_BGR2HSV )  #convert in image detection formate\n",
    "\n",
    "\n",
    "        inv = 255-gray\t\t\t\t\t# convert in inverse form \n",
    "        gauss = cv2.GaussianBlur(inv,ksize=(15,15),sigmaX=0,sigmaY=0)  # convert in gauss form \n",
    "\n",
    "\n",
    "        pencil = cv2.divide(gray,255-gauss,scale=256)\n",
    "\n",
    "        # to display these four images \n",
    "        cv2.imshow('resized',resized)\n",
    "        #cv2.imshow('sharp',sharpened)\n",
    "        #cv2.imshow(\"gray\", gray)\n",
    "        cv2.imshow('pencil',pencil)\n",
    "        cv2.waitKey(0)\n",
    "        cv2.destroyAllWindows()\n",
    "\n",
    "root = Tk()\n",
    "root.title('Sketch-Maker')\n",
    "root.geometry('500x200')\n",
    "app = Application(root)\n",
    "app.mainloop()"
   ]
  },
  {
   "cell_type": "code",
   "execution_count": null,
   "metadata": {},
   "outputs": [],
   "source": [
    "#thanks"
   ]
  },
  {
   "cell_type": "code",
   "execution_count": null,
   "metadata": {},
   "outputs": [],
   "source": []
  },
  {
   "cell_type": "code",
   "execution_count": null,
   "metadata": {},
   "outputs": [],
   "source": []
  },
  {
   "cell_type": "code",
   "execution_count": null,
   "metadata": {},
   "outputs": [],
   "source": []
  },
  {
   "cell_type": "code",
   "execution_count": null,
   "metadata": {},
   "outputs": [],
   "source": []
  },
  {
   "cell_type": "code",
   "execution_count": null,
   "metadata": {},
   "outputs": [],
   "source": []
  },
  {
   "cell_type": "code",
   "execution_count": null,
   "metadata": {},
   "outputs": [],
   "source": []
  },
  {
   "cell_type": "code",
   "execution_count": null,
   "metadata": {},
   "outputs": [],
   "source": []
  },
  {
   "cell_type": "code",
   "execution_count": null,
   "metadata": {},
   "outputs": [],
   "source": []
  }
 ],
 "metadata": {
  "kernelspec": {
   "name": "python3",
   "display_name": "Python 3.8.3 64-bit ('base': conda)"
  },
  "language_info": {
   "codemirror_mode": {
    "name": "ipython",
    "version": 3
   },
   "file_extension": ".py",
   "mimetype": "text/x-python",
   "name": "python",
   "nbconvert_exporter": "python",
   "pygments_lexer": "ipython3",
   "version": "3.8.3"
  },
  "interpreter": {
   "hash": "513dc2e41d739bb2c947903f3c0bbf636d03aa53ab50e61c694a27481c81805e"
  }
 },
 "nbformat": 4,
 "nbformat_minor": 4
}